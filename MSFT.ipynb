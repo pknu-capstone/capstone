{
 "cells": [
  {
   "cell_type": "code",
   "execution_count": 4,
   "id": "9b3508ad-ceb9-4a19-b452-a05b1aacb35e",
   "metadata": {},
   "outputs": [
    {
     "ename": "ModuleNotFoundError",
     "evalue": "No module named 'CPM1'",
     "output_type": "error",
     "traceback": [
      "\u001b[0;31m---------------------------------------------------------------------------\u001b[0m",
      "\u001b[0;31mModuleNotFoundError\u001b[0m                       Traceback (most recent call last)",
      "Cell \u001b[0;32mIn[4], line 12\u001b[0m\n\u001b[1;32m      9\u001b[0m \u001b[38;5;28;01mfrom\u001b[39;00m\u001b[38;5;250m \u001b[39m\u001b[38;5;21;01mcollections\u001b[39;00m\u001b[38;5;250m \u001b[39m\u001b[38;5;28;01mimport\u001b[39;00m Counter\n\u001b[1;32m     10\u001b[0m \u001b[38;5;28;01mfrom\u001b[39;00m\u001b[38;5;250m \u001b[39m\u001b[38;5;21;01mnumpy\u001b[39;00m\u001b[38;5;21;01m.\u001b[39;00m\u001b[38;5;21;01mlinalg\u001b[39;00m\u001b[38;5;250m \u001b[39m\u001b[38;5;28;01mimport\u001b[39;00m inv\n\u001b[0;32m---> 12\u001b[0m \u001b[38;5;28;01mimport\u001b[39;00m\u001b[38;5;250m \u001b[39m\u001b[38;5;21;01mCPM1\u001b[39;00m\n\u001b[1;32m     13\u001b[0m \u001b[38;5;28;01mimport\u001b[39;00m\u001b[38;5;250m \u001b[39m\u001b[38;5;21;01mimportlib\u001b[39;00m\n\u001b[1;32m     14\u001b[0m \u001b[38;5;28;01mimport\u001b[39;00m\u001b[38;5;250m \u001b[39m\u001b[38;5;21;01meval_signal1\u001b[39;00m\n",
      "\u001b[0;31mModuleNotFoundError\u001b[0m: No module named 'CPM1'"
     ]
    }
   ],
   "source": [
    "import yfinance as yf\n",
    "from datetime import datetime, timedelta\n",
    "import pandas as pd\n",
    "import matplotlib.pyplot as plt\n",
    "import numpy as np\n",
    "import random\n",
    "from reservoirpy.nodes import Reservoir, Ridge\n",
    "from sklearn.preprocessing import StandardScaler\n",
    "from collections import Counter\n",
    "from numpy.linalg import inv\n",
    "\n",
    "import CPM1\n",
    "import importlib\n",
    "import eval_signal1\n",
    "import MA\n",
    "import Stochastic1\n",
    "importlib.reload(MA)\n",
    "importlib.reload(eval_signal1)\n",
    "importlib.reload(CPM1)\n",
    "importlib.reload(Stochastic1)\n",
    "from MA import MovingAverageGA, MovingAverage\n",
    "from CPM import extract_cpm_points\n",
    "from CPM1 import cpm_model\n",
    "from Stochastic1 import run_stochastic_ga_optimization, generate_stochastic_signals"
   ]
  },
  {
   "cell_type": "code",
   "execution_count": null,
   "id": "74b56521-3e23-473c-950b-a75e573d261e",
   "metadata": {},
   "outputs": [],
   "source": [
    "name = 'MSFT' #MicroSoft\n",
    "ticker = yf.Ticker(name)\n",
    "ori_df = ticker.history(interval='1d', period='10y', auto_adjust=False)"
   ]
  },
  {
   "cell_type": "code",
   "execution_count": null,
   "id": "76b34f2a-ac98-48ea-be84-187e72c3cc1c",
   "metadata": {},
   "outputs": [],
   "source": [
    "ori_df.isnull().sum()"
   ]
  },
  {
   "cell_type": "code",
   "execution_count": null,
   "id": "c62f85b2-341f-4a0a-b5eb-f2568a6f6d15",
   "metadata": {},
   "outputs": [],
   "source": [
    "plt.figure(figsize=(10, 5))\n",
    "plt.plot(ori_df.index, ori_df['Close'], label='Close Price', color='blue')\n",
    "plt.title(f'{name} - Close Price (10y)')\n",
    "plt.xlabel('Date')\n",
    "plt.ylabel('Price (USD)')\n",
    "plt.legend()\n",
    "plt.grid(True)\n",
    "plt.tight_layout()\n",
    "plt.show()"
   ]
  },
  {
   "cell_type": "code",
   "execution_count": null,
   "id": "4c16f60e-399a-4001-bb2a-6ad68e923bb4",
   "metadata": {},
   "outputs": [],
   "source": [
    "df = ori_df.copy()"
   ]
  },
  {
   "cell_type": "code",
   "execution_count": null,
   "id": "7916d77a-3bfa-4300-86bd-c61928a82868",
   "metadata": {},
   "outputs": [],
   "source": [
    "df['MA20'] = ori_df['Close'].rolling(window=20).mean()\n",
    "df['MA60'] = ori_df['Close'].rolling(window=60).mean()"
   ]
  },
  {
   "cell_type": "code",
   "execution_count": null,
   "id": "8e01bac3-f5fe-4469-8144-dfbacd6d2476",
   "metadata": {},
   "outputs": [],
   "source": [
    "def detect_cross_signals(df: pd.DataFrame) -> None:\n",
    "    ma_short = df['MA20']\n",
    "    ma_long = df['MA60']\n",
    "    \n",
    "    # 이동평균의 이전 값\n",
    "    prev_short = ma_short.shift(1)\n",
    "    prev_long = ma_long.shift(1)\n",
    "\n",
    "    # 골든 크로스: 단기선이 장기선을 아래에서 위로 돌파\n",
    "    df['Golden'] = ((prev_short < prev_long) & (ma_short >= ma_long)).astype(int)\n",
    "\n",
    "    # 데드 크로스: 단기선이 장기선을 위에서 아래로 돌파\n",
    "    df['Dead'] = ((prev_short > prev_long) & (ma_short <= ma_long)).astype(int)\n",
    "detect_cross_signals(df)"
   ]
  },
  {
   "cell_type": "code",
   "execution_count": null,
   "id": "5a5d24f9-9583-403c-b5d8-174a43ba2f26",
   "metadata": {},
   "outputs": [],
   "source": [
    "plt.figure(figsize=(10, 5))\n",
    "\n",
    "# 가격 및 이동평균선\n",
    "plt.plot(df['Close'], label='Close Price', color='blue')\n",
    "plt.plot(df['MA20'], label='20-day MA', color='orange')\n",
    "plt.plot(df['MA60'], label='60-day MA', color='green')\n",
    "\n",
    "plt.scatter(df.index[df['Golden'] == 1], df['Close'][df['Golden'] == 1], \n",
    "            marker='^', color='green', label='Golden Cross', s=100)\n",
    "\n",
    "plt.scatter(df.index[df['Dead'] == 1], df['Close'][df['Dead'] == 1], \n",
    "            marker='v', color='red', label='Dead Cross', s=100)\n",
    "\n",
    "plt.title(f'{name} - Close Price & Moving Averages')\n",
    "plt.xlabel('Date')\n",
    "plt.ylabel('Price (USD)')\n",
    "plt.legend()\n",
    "plt.grid(True)\n",
    "plt.tight_layout()\n",
    "plt.show()\n"
   ]
  },
  {
   "cell_type": "raw",
   "id": "45496240-8843-44a5-8889-85d7152f8134",
   "metadata": {},
   "source": [
    "def calculate_KD(df: pd.DataFrame, period: int = 14) -> None:\n",
    "    close = df['Close']\n",
    "    high = df['High']\n",
    "    low = df['Low']\n",
    "\n",
    "    H_list = []\n",
    "    L_list = []\n",
    "\n",
    "    for i in range(len(df)):\n",
    "        H_sum = 0\n",
    "        L_sum = 0\n",
    "        valid = True\n",
    "\n",
    "        for j in range(3):  # t, t-1, t-2\n",
    "            idx = i - j\n",
    "            if idx < period - 1:\n",
    "                valid = False\n",
    "                break\n",
    "\n",
    "            window_low = low.iloc[idx - period + 1: idx + 1]\n",
    "            window_high = high.iloc[idx - period + 1: idx + 1]\n",
    "            lowest_low = window_low.min()\n",
    "            highest_high = window_high.max()\n",
    "\n",
    "            close_val = close.iloc[idx]\n",
    "\n",
    "            H_sum += (close_val - lowest_low)\n",
    "            L_sum += (highest_high - lowest_low)\n",
    "\n",
    "        if valid and L_sum != 0:\n",
    "            H_list.append(H_sum)\n",
    "            L_list.append(L_sum)\n",
    "        else:\n",
    "            H_list.append(np.nan)\n",
    "            L_list.append(np.nan)\n",
    "\n",
    "    H_series = pd.Series(H_list, index=df.index)\n",
    "    L_series = pd.Series(L_list, index=df.index)\n",
    "\n",
    "    df['%K'] = 100 * (H_series / L_series)\n",
    "\n",
    "    # %D 계산 (3일 합 기반)\n",
    "    H_prime = H_series.rolling(window=3).sum()\n",
    "    L_prime = L_series.rolling(window=3).sum()\n",
    "    df['%D'] = 100 * (H_prime / L_prime)\n",
    "calculate_KD(df, 14)"
   ]
  },
  {
   "cell_type": "code",
   "execution_count": null,
   "id": "29c6c6e2-466e-4d9a-926d-d39c4850ca31",
   "metadata": {},
   "outputs": [],
   "source": [
    "df.head()"
   ]
  },
  {
   "cell_type": "raw",
   "id": "de499cdf-1363-48a3-bbd8-3e7009c2ab58",
   "metadata": {},
   "source": [
    "plt.figure(figsize=(10, 5))\n",
    "plt.plot(df['%K'], label='%K', color='orange')\n",
    "plt.plot(df['%D'], label='%D', color='green')\n",
    "plt.title(f'{name} - Stocastics')\n",
    "plt.xlabel('Date')\n",
    "plt.ylabel('Price (USD)')\n",
    "plt.legend()\n",
    "plt.grid(True)\n",
    "plt.tight_layout()\n",
    "plt.show()"
   ]
  },
  {
   "cell_type": "code",
   "execution_count": null,
   "id": "277db84f-705d-4c1e-b2b5-93a64ee0a152",
   "metadata": {},
   "outputs": [],
   "source": [
    "cpm_points, df_with_cpm = cpm_model(df, column='Close',P=0.09, T=5)"
   ]
  },
  {
   "cell_type": "code",
   "execution_count": 5,
   "id": "713f4e50-5370-439c-8ada-06265c9290fd",
   "metadata": {},
   "outputs": [
    {
     "ename": "NameError",
     "evalue": "name 'df_with_cpm' is not defined",
     "output_type": "error",
     "traceback": [
      "\u001b[0;31m---------------------------------------------------------------------------\u001b[0m",
      "\u001b[0;31mNameError\u001b[0m                                 Traceback (most recent call last)",
      "Cell \u001b[0;32mIn[5], line 1\u001b[0m\n\u001b[0;32m----> 1\u001b[0m df_with_cpm\u001b[38;5;241m.\u001b[39mhead()\n",
      "\u001b[0;31mNameError\u001b[0m: name 'df_with_cpm' is not defined"
     ]
    }
   ],
   "source": [
    "df_with_cpm.head()"
   ]
  },
  {
   "cell_type": "code",
   "execution_count": null,
   "id": "df0bf80f-ad33-4b04-b755-0f5d843fc29d",
   "metadata": {},
   "outputs": [],
   "source": [
    "len(cpm_points)"
   ]
  },
  {
   "cell_type": "code",
   "execution_count": null,
   "id": "b23abe46-d0f8-4544-b1c9-814bd5ccf21a",
   "metadata": {},
   "outputs": [],
   "source": [
    "df_with_cpm['cpm_point_type'].describe()"
   ]
  },
  {
   "cell_type": "code",
   "execution_count": null,
   "id": "ea501874-02f0-4625-9c51-2437be638ad8",
   "metadata": {},
   "outputs": [],
   "source": [
    "# CPM 신호가 있는 인덱스와 가격\n",
    "cpm_indices = df_with_cpm[df_with_cpm['is_cpm_point'] == True].index\n",
    "cpm_prices = df_with_cpm.loc[cpm_indices, 'Close']\n",
    "\n",
    "# Buy (1) / Sell (-1) 인덱스와 가격\n",
    "buy_indices = df_with_cpm[df_with_cpm['cpm_point_type'] == 1].index\n",
    "sell_indices = df_with_cpm[df_with_cpm['cpm_point_type'] == -1].index\n",
    "buy_prices = df_with_cpm.loc[buy_indices, 'Close']\n",
    "sell_prices = df_with_cpm.loc[sell_indices, 'Close']\n",
    "\n",
    "plt.figure(figsize=(15, 6))\n",
    "\n",
    "# 1. 전체 가격 라인\n",
    "plt.plot(df.index, df_with_cpm['Close'], label='Price', color='blue')\n",
    "\n",
    "# 2. CPM 전환점을 선으로 연결\n",
    "plt.plot(cpm_indices, cpm_prices, label='CPM Turning Points (line)', color='orange')\n",
    "\n",
    "# 3. Buy 시점 (▲ 초록색)\n",
    "#plt.scatter(buy_indices, buy_prices, label='Buy Signal', marker='^', color='green', s=100)\n",
    "\n",
    "# 4. Sell 시점 (▼ 빨간색)\n",
    "#plt.scatter(sell_indices, sell_prices, label='Sell Signal', marker='v', color='red', s=100)\n",
    "\n",
    "plt.title(\"Price with CPM Turning Points, Buy/Sell Signals\")\n",
    "plt.xlabel(\"Date\")\n",
    "plt.ylabel(\"Price\")\n",
    "plt.legend()\n",
    "plt.grid(True)\n",
    "plt.tight_layout()\n",
    "plt.show()"
   ]
  },
  {
   "cell_type": "code",
   "execution_count": null,
   "id": "e38cf038-15af-40e0-8323-c0f1381a4ad5",
   "metadata": {},
   "outputs": [],
   "source": [
    "total_len = len(df)\n",
    "\n",
    "# # 6:2:2\n",
    "# train_end = int(total_len * 0.6)\n",
    "# val_end = int(total_len * 0.8)\n",
    "\n",
    "# train_df = df.iloc[:train_end]\n",
    "# val_df = df.iloc[train_end:val_end]\n",
    "# test_df = df.iloc[val_end:]\n",
    "\n",
    "train_end = int(total_len * 0.7)\n",
    "train_df = df_with_cpm.iloc[:train_end]\n",
    "test_df = df_with_cpm.iloc[train_end:]"
   ]
  },
  {
   "cell_type": "code",
   "execution_count": null,
   "id": "6ee6be42-a9ad-420b-9785-13b483c04fe6",
   "metadata": {},
   "outputs": [],
   "source": [
    "st_best_params, st_best_fitness, train_df = run_stochastic_ga_optimization(train_df)\n",
    "\n",
    "print(\"Best Parameters:\", st_best_params)\n",
    "print(\"Best Fitness:\", st_best_fitness)"
   ]
  },
  {
   "cell_type": "code",
   "execution_count": null,
   "id": "d0572457-76fb-40a1-9562-4bc7982cab1c",
   "metadata": {},
   "outputs": [],
   "source": [
    "from sklearn.preprocessing import StandardScaler"
   ]
  },
  {
   "cell_type": "code",
   "execution_count": null,
   "id": "31754b38-0815-4b2b-8c30-9fb0ce3a0c7e",
   "metadata": {},
   "outputs": [],
   "source": [
    "scaler = StandardScaler()"
   ]
  },
  {
   "cell_type": "code",
   "execution_count": null,
   "id": "7fbbf71d-d53a-4a31-a52e-5e1037c18070",
   "metadata": {},
   "outputs": [],
   "source": [
    "X_train_raw = np.concatenate([\n",
    "    train_df['ST_Signals'].values.reshape(-1, 1),\n",
    "    train_df['Close'].values.reshape(-1, 1)\n",
    "], axis=1)\n",
    "scaler.fit(X_train_raw)\n",
    "X_train = scaler.transform(X_train_raw)\n",
    "\n",
    "Y_train = train_df['cpm_point_type'].values.reshape(-1, 1)"
   ]
  },
  {
   "cell_type": "code",
   "execution_count": null,
   "id": "93652420-a7b4-4010-bb66-c56fda59720c",
   "metadata": {},
   "outputs": [],
   "source": [
    "test_df_result = test_df.copy()\n",
    "\n",
    "st_period, st_a, st_b, st_c, st_d = st_best_params\n",
    "st_period = int(st_period)\n",
    "\n",
    "suggested_signals_from_best_params = generate_stochastic_signals(test_df_result, st_period, st_a, st_b, st_c, st_d)\n",
    "\n",
    "test_df_result['ST_Signals'] = 0\n",
    "\n",
    "if not suggested_signals_from_best_params.empty:\n",
    "    signal_map = suggested_signals_from_best_params.set_index('Index')['Type'].map({'BUY': -1, 'SELL': 1})\n",
    "    test_df_result['ST_Signals'] = test_df_result['ST_Signals'].combine_first(signal_map).fillna(0).astype(int)\n",
    "\n",
    "test_df = test_df_result"
   ]
  },
  {
   "cell_type": "code",
   "execution_count": null,
   "id": "fe47e6fe-9569-4e0f-a5d1-1587e194957e",
   "metadata": {},
   "outputs": [],
   "source": [
    "X_test_raw = np.concatenate([\n",
    "    test_df['ST_Signals'].values.reshape(-1, 1),\n",
    "    test_df['Close'].values.reshape(-1, 1)\n",
    "], axis=1)\n",
    "X_test = scaler.transform(X_test_raw)\n",
    "\n",
    "Y_test = test_df['cpm_point_type'].values.reshape(-1, 1)"
   ]
  },
  {
   "cell_type": "code",
   "execution_count": null,
   "id": "e30fad35-8da5-4bfc-8bb9-ef123e5f173a",
   "metadata": {},
   "outputs": [],
   "source": [
    "# 모델 정의\n",
    "reservoir = Reservoir(units=1000, input_dim=2, lr=0.2, sr=0.9)\n",
    "ridge = Ridge(ridge=1)\n",
    "esn_model = reservoir >> ridge\n",
    "\n",
    "# 학습\n",
    "X_train = X_train\n",
    "esn_model.fit(X_train, Y_train)"
   ]
  },
  {
   "cell_type": "code",
   "execution_count": null,
   "id": "3acad7dc-1787-4205-8816-9272ce423876",
   "metadata": {},
   "outputs": [],
   "source": [
    "Y_pred = esn_model.run(X_test)"
   ]
  },
  {
   "cell_type": "code",
   "execution_count": null,
   "id": "1c779c54-172e-488e-bcc7-fbea05c0ae61",
   "metadata": {},
   "outputs": [],
   "source": [
    "from sklearn.metrics import classification_report, confusion_matrix\n",
    "import numpy as np\n",
    "\n",
    "# Y_pred가 연속된 값일 수 있으므로, 이진 분류로 변환\n",
    "# 예: 0.5 이상이면 1, -0.5 이하이면 -1, 나머지는 0\n",
    "def convert_signals(y):\n",
    "    return np.where(y > 0.05, 1, np.where(y < -0.01, -1, 0))\n",
    "\n",
    "Y_pred_class = convert_signals(Y_pred)\n",
    "Y_test_class = convert_signals(Y_test)\n",
    "\n",
    "# confusion matrix\n",
    "print(\"Confusion Matrix:\")\n",
    "print(confusion_matrix(Y_test_class, Y_pred_class, labels=[1, 0, -1]))\n",
    "\n",
    "# classification report (precision, recall, f1)\n",
    "print(\"\\nClassification Report:\")\n",
    "print(classification_report(Y_test_class, Y_pred_class, labels=[1, 0, -1], digits=3))\n"
   ]
  },
  {
   "cell_type": "code",
   "execution_count": null,
   "id": "671beb8c-984a-47a1-a1a9-e3524d8d2303",
   "metadata": {},
   "outputs": [],
   "source": [
    "from pyESN import ESN"
   ]
  },
  {
   "cell_type": "code",
   "execution_count": null,
   "id": "1567c202-0834-4ff0-b332-9e3830e63e74",
   "metadata": {},
   "outputs": [],
   "source": [
    "pyesn_model = ESN(\n",
    "    n_inputs=2,  # 입력 특징의 수\n",
    "    n_outputs=1,        # 출력 (타겟)의 수\n",
    "    n_reservoir=500,                   # 리저버 뉴런 수\n",
    "    spectral_radius=0.95,              # 스펙트럼 반경\n",
    "    sparsity=0,                  # 순환 가중치\n",
    "    noise=0.001,                 # 노이즈\n",
    "    input_shift=None,            # 입력 값에 더함\n",
    "    input_scaling=None,          # 입력 값에 곱함\n",
    "    teacher_forcing=True,        # 정답을 다음 스텝 출력에 사용할 건가?(학습은 True, 예측은 자동으로 False)\n",
    "    feedback_scaling=None,       #\n",
    "    teacher_scaling=None,        # 타겟값에 곱함\n",
    "    teacher_shift=None,          # 타겟값에 더함\n",
    "    #out_activation=np.tanh,     # 출력층에 사용할 함수(기본 identity-> 아무것도 안함), tanh, sigmoid\n",
    "    #inverse_out_activation=np.arctanh, # 역함수로 출력값 복원\n",
    "    random_state=None,           # 무작위성 제어\n",
    "    silent=True                  # 내부 메시지 출력\n",
    ")"
   ]
  },
  {
   "cell_type": "code",
   "execution_count": null,
   "id": "f60361a3-ed5d-4291-8b15-8ad5ada02a35",
   "metadata": {},
   "outputs": [],
   "source": [
    "pyesn_model.fit(X_train, Y_train)"
   ]
  },
  {
   "cell_type": "code",
   "execution_count": null,
   "id": "e6520b2d-1ea5-4b22-8fdb-02984fa9063b",
   "metadata": {},
   "outputs": [],
   "source": [
    "prediction = pyesn_model.predict(X_test)"
   ]
  },
  {
   "cell_type": "code",
   "execution_count": null,
   "id": "9ea16146-3891-4151-a55e-8ee218596c08",
   "metadata": {},
   "outputs": [],
   "source": [
    "def to_nearest_class(value):\n",
    "    classes = np.array([-1, 0, 1])\n",
    "    idx = np.abs(classes - value).argmin()\n",
    "    return classes[idx]\n",
    "\n",
    "Y_pred_pyesn = np.array([to_nearest_class(y) for y in prediction])"
   ]
  },
  {
   "cell_type": "code",
   "execution_count": null,
   "id": "f2f15a08-0c80-4103-9dd1-b5e2cdb90fb7",
   "metadata": {},
   "outputs": [],
   "source": [
    "# confusion matrix\n",
    "print(\"Confusion Matrix:\")\n",
    "print(confusion_matrix(Y_test, Y_pred_pyesn, labels=[1, 0, -1]))\n",
    "\n",
    "# classification report (precision, recall, f1)\n",
    "print(\"\\nClassification Report:\")\n",
    "print(classification_report(Y_test, Y_pred_pyesn, labels=[1, 0, -1], digits=3))"
   ]
  },
  {
   "cell_type": "code",
   "execution_count": 6,
   "id": "9d1aa862-eb2b-4eb2-aef6-2cc7fc194adf",
   "metadata": {},
   "outputs": [
    {
     "ename": "NameError",
     "evalue": "name 'test_df' is not defined",
     "output_type": "error",
     "traceback": [
      "\u001b[0;31m---------------------------------------------------------------------------\u001b[0m",
      "\u001b[0;31mNameError\u001b[0m                                 Traceback (most recent call last)",
      "Cell \u001b[0;32mIn[6], line 2\u001b[0m\n\u001b[1;32m      1\u001b[0m \u001b[38;5;66;03m# CPM 신호가 있는 인덱스와 가격\u001b[39;00m\n\u001b[0;32m----> 2\u001b[0m cpm_indices \u001b[38;5;241m=\u001b[39m test_df[test_df[\u001b[38;5;124m'\u001b[39m\u001b[38;5;124mis_cpm_point\u001b[39m\u001b[38;5;124m'\u001b[39m] \u001b[38;5;241m==\u001b[39m \u001b[38;5;28;01mTrue\u001b[39;00m]\u001b[38;5;241m.\u001b[39mindex\n\u001b[1;32m      3\u001b[0m cpm_prices \u001b[38;5;241m=\u001b[39m test_df\u001b[38;5;241m.\u001b[39mloc[cpm_indices, \u001b[38;5;124m'\u001b[39m\u001b[38;5;124mClose\u001b[39m\u001b[38;5;124m'\u001b[39m]\n\u001b[1;32m      5\u001b[0m \u001b[38;5;66;03m# Buy (1) / Sell (-1) 인덱스와 가격\u001b[39;00m\n",
      "\u001b[0;31mNameError\u001b[0m: name 'test_df' is not defined"
     ]
    }
   ],
   "source": [
    "# CPM 신호가 있는 인덱스와 가격\n",
    "cpm_indices = test_df[test_df['is_cpm_point'] == True].index\n",
    "cpm_prices = test_df.loc[cpm_indices, 'Close']\n",
    "\n",
    "# Buy (1) / Sell (-1) 인덱스와 가격\n",
    "buy_indices = test_df[test_df['cpm_point_type'] == 1].index\n",
    "sell_indices = test_df[test_df['cpm_point_type'] == -1].index\n",
    "buy_prices = test_df.loc[buy_indices, 'Close']\n",
    "sell_prices = test_df.loc[sell_indices, 'Close']\n",
    "\n",
    "buy_indices = test_df[test_df['cpm_point_type'] == 1].index\n",
    "sell_indices = test_df[test_df['cpm_point_type'] == -1].index\n",
    "buy_prices = test_df.loc[buy_indices, 'Close']\n",
    "sell_prices = test_df.loc[sell_indices, 'Close']\n",
    "\n",
    "plt.figure(figsize=(15, 6))\n",
    "\n",
    "# 1. 전체 가격 라인\n",
    "plt.plot(test_df.index, test_df['Close'], label='Price', color='blue')\n",
    "\n",
    "# 2. CPM 전환점을 선으로 연결\n",
    "plt.plot(cpm_indices, cpm_prices, label='CPM Turning Points (line)', color='orange')\n",
    "\n",
    "# 예측\n",
    "plt.plot(cpm_indices, cpm_prices, label='Prediction (line)', color='green')\n",
    "\n",
    "# 3. Buy 시점 (▲ 초록색)\n",
    "#plt.scatter(buy_indices, buy_prices, label='Buy Signal', marker='^', color='green', s=100)\n",
    "\n",
    "# 4. Sell 시점 (▼ 빨간색)\n",
    "#plt.scatter(sell_indices, sell_prices, label='Sell Signal', marker='v', color='red', s=100)\n",
    "\n",
    "plt.title(\"Price with CPM Turning Points, Buy/Sell Signals\")\n",
    "plt.xlabel(\"Date\")\n",
    "plt.ylabel(\"Price\")\n",
    "plt.legend()\n",
    "plt.grid(True)\n",
    "plt.tight_layout()\n",
    "plt.show()"
   ]
  },
  {
   "cell_type": "code",
   "execution_count": null,
   "id": "ed4664d2-34be-42db-82c3-029c8d52f84e",
   "metadata": {},
   "outputs": [],
   "source": []
  }
 ],
 "metadata": {
  "kernelspec": {
   "display_name": "Python [conda env:base] *",
   "language": "python",
   "name": "conda-base-py"
  },
  "language_info": {
   "codemirror_mode": {
    "name": "ipython",
    "version": 3
   },
   "file_extension": ".py",
   "mimetype": "text/x-python",
   "name": "python",
   "nbconvert_exporter": "python",
   "pygments_lexer": "ipython3",
   "version": "3.13.5"
  }
 },
 "nbformat": 4,
 "nbformat_minor": 5
}
